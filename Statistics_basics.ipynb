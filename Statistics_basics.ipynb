{
  "nbformat": 4,
  "nbformat_minor": 0,
  "metadata": {
    "colab": {
      "provenance": []
    },
    "kernelspec": {
      "name": "python3",
      "display_name": "Python 3"
    },
    "language_info": {
      "name": "python"
    }
  },
  "cells": [
    {
      "cell_type": "code",
      "execution_count": null,
      "metadata": {
        "id": "q5xbG6e6lvhw"
      },
      "outputs": [],
      "source": [
        "            statistics (theory)"
      ]
    },
    {
      "cell_type": "markdown",
      "source": [
        "1.What is statistics, and why is it important?\n",
        "-> Statistics is the science of collecting, analyzing, interpreting, and presenting data. It enables us to understand patterns, make predictions, and inform decisions across various fields.\n",
        "\n",
        "Statistics plays a crucial role in various aspects of life and society:\n",
        "\n",
        "* Informed Decision-Making: Businesses, governments, and individuals use statistical data to make evidence-based decisions.\n",
        "\n",
        "* Scientific Research: Researchers rely on statistical methods to validate hypotheses and interpret experimental results.\n",
        "\n",
        "* Healthcare Advancements: Statistical analysis is vital in clinical trials and public health studies to determine the effectiveness of treatments.\n",
        "\n",
        "* Economic Planning: Economists use statistics to analyze market trends,   inflation rates, and employment figure.\n",
        "\n",
        "* Public Policy: Governments utilize statistical data to develop and assess policies, allocate resources, and plan services.\n",
        "\n",
        "* Everyday Life: Individuals apply statistical reasoning in personal finance, health monitoring, and evaluating information in the media."
      ],
      "metadata": {
        "id": "C8HLfTRyl71v"
      }
    },
    {
      "cell_type": "markdown",
      "source": [
        "2. What are the two main types of statistics?\n",
        "->   What are the two main types of statistics\n",
        "   * descriptive\n",
        "   * inferenctial"
      ],
      "metadata": {
        "id": "F4OvLmeznMSQ"
      }
    },
    {
      "cell_type": "markdown",
      "source": [
        "3.What are descriptive statistics?\n",
        "-> the technique of descriptive statistics are:-\n",
        " 1. measure of central tendency(mean,median,mode)\n",
        " 2. measure of symmetricity    (skewness,kurtosis)\n",
        " 3. measure of dispersion      (standard deviation, variance)\n"
      ],
      "metadata": {
        "id": "smgh-R5bnn_f"
      }
    },
    {
      "cell_type": "markdown",
      "source": [
        "4.what is inferenctial statistics?\n",
        "-> inferenctial stats it consists of using sample data that has been measured to form conclusion about a populations."
      ],
      "metadata": {
        "id": "1bYNG_BOpE54"
      }
    },
    {
      "cell_type": "markdown",
      "source": [
        "5.What is sampling in statistics?\n",
        "-> Sampling in statistics is the process of selecting a subset of individuals or items (a sample) from a larger population to estimate characteristics of that population without surveying everyone."
      ],
      "metadata": {
        "id": "gTJuBjMJpoAM"
      }
    },
    {
      "cell_type": "markdown",
      "source": [
        "6.What are the different types of sampling methods?\n",
        "-> the different types of sampling methods are given below :-\n",
        "  1.simple random sampling.\n",
        "  2. stratified sampling.\n",
        "  3. cluster sampling.\n",
        "  4. systematics sampling."
      ],
      "metadata": {
        "id": "6s-cT_ivp_15"
      }
    },
    {
      "cell_type": "markdown",
      "source": [
        "7.What is the difference between random and non-random sampling?\n",
        "-> The difference between random (probability) and non-random (non-probability) sampling boils down to how samples are selected and the implications that has for bias and generalizability:\n",
        "\n",
        " random:- Every member of the population has a known, equal (or calculable) chance of being selected.\n",
        "\n",
        " nonrandom:- Selection doesn’t rely on random chance; instead based on convenience, judgment, or specific criteria."
      ],
      "metadata": {
        "id": "elaEUy0KqwAb"
      }
    },
    {
      "cell_type": "markdown",
      "source": [
        "8.Define and give examples of qualitative and quantitative data?\n",
        "->Qualitative(non-numerical) data: Non-numerical, descriptive information capturing qualities, characteristics, perceptions, or behaviors—often from interviews, observations, or texts. It answers why or how questions\n",
        "\n",
        "Examples:\n",
        "Interview response: “I feel the app layout is confusing.”\n",
        "Observation notes: “The dog wagged its tail excitedly.”\n",
        "Textual data: diary entries, focus-group transcripts, photos, and videos\n",
        "\n",
        "Quantitative (numerical) data: Numeric information that can be measured or counted, supporting statistical analysis. It answers how many, how much, or how often\n",
        "Examples:\n",
        "Counts: number of students in a class (e.g., 30) .\n",
        "Measurements: weight (72 kg), height (180 cm), temperature (25 °C), revenue ($50,000) .\n"
      ],
      "metadata": {
        "id": "qF9uvwmQsVZS"
      }
    },
    {
      "cell_type": "markdown",
      "source": [],
      "metadata": {
        "id": "eh6Vo1KVwufO"
      }
    },
    {
      "cell_type": "markdown",
      "source": [
        "9.What are the different types of data in statistics?\n",
        "-> Qualitative Data:- it classifies into non numeric categories.\n",
        " ex:- nominal scale data\n",
        "   -  qualatative or categorical data\n",
        "   -  no order in the data\n",
        "   -  gender,ethincity,colours locations\n",
        "\n",
        "  ordinal scaled data:-\n",
        "   -  order &ranks has a meaning | matter\n",
        "   -  difference cannot be measured\n",
        "   -  pie chart ,bar plot\n",
        "\n",
        "   Quantative Data :- it can be measured in numeric .\n",
        "\n",
        "   internal scaled data:-\n",
        "   -  the rank and order has a meaning\n",
        "   -  difference can be measured (exception, excluding ratio )\n",
        "   -  it does not have compulsarily o start value.\n",
        "   -  histogram scatterplot line chart.\n",
        "   Ratio scaled data :-\n",
        "   -  order and ranks has a meaning\n",
        "   -  difference and ratio are measureble\n",
        "   -  it does hsve a o sarting point compulsorily."
      ],
      "metadata": {
        "id": "-mRndas1wzF2"
      }
    },
    {
      "cell_type": "markdown",
      "source": [
        "10. Explain nominal, ordinal, interval, and ratio levels of measurement?\n",
        "-> 1. Nominal (Categorical, no order)\n",
        "Definition: Categorizes data into distinct groups or labels without any inherent order. Only equality/inequality comparisons are meaningful.\n",
        " 2. Ordinal (Categorical, with order)\n",
        "Definition: Categories have a natural order, but the intervals between them are not necessarily equal.\n",
        "3. Interval (Numeric, equal intervals, no true zero)\n",
        "Definition: Numeric data with consistent intervals, but zero is arbitrary, meaning ratios aren’t meaningful .\n",
        "4. Ratio (Numeric, equal intervals, true zero)\n",
        "Definition: Contains all interval properties plus a meaningful zero, allowing for ratio comparisons."
      ],
      "metadata": {
        "id": "MxPqjUuIym9x"
      }
    },
    {
      "cell_type": "markdown",
      "source": [
        "11.What is the measure of central tendency?\n",
        "-> cental tendency:- it represent the centre point of the dataset.\n",
        "  - Mean\n",
        "  - Median\n",
        "  - Mode"
      ],
      "metadata": {
        "id": "VDfzmxjUzbFL"
      }
    },
    {
      "cell_type": "markdown",
      "source": [
        "12. Define mean, median, and mode?\n",
        "-> Mean (Arthimatic mid value of the data).\n",
        "-> Median(physical mid point of data).\n",
        "-> Mode (maxmium frequency and repeated highest number of times)."
      ],
      "metadata": {
        "id": "3nXxOKAez_uE"
      }
    },
    {
      "cell_type": "markdown",
      "source": [
        "13. What is the significance of the measure of central tendency?\n",
        "->*  Summarizes Large Data\n",
        "Without combing through thousands of points, you can quickly grasp the dataset’s overall behavior using one central number\n",
        "\n",
        "* Identifies a Typical Value\n",
        "It gives you a snapshot of what is “normal” or expected—for instance, average income, most common category, or typical test score .\n",
        "\n",
        "* Facilitates Comparisons\n",
        "Comparing means or medians across groups helps identify differences or trends in fields like education, economics, and healthcare .\n",
        "\n",
        "* Supports Decision-Making & Forecasting\n",
        "In business, knowing average sales or customer ratings aids planning; in healthcare, mean blood pressure informs treatment decisions"
      ],
      "metadata": {
        "id": "6RV9-hp502KO"
      }
    },
    {
      "cell_type": "markdown",
      "source": [
        "14.What is variance, and how is it calculated?\n",
        "-> Variance is a key measure of how spread out data points are in a dataset, specifically denoting how far values deviate from the mean (average). It’s foundational in statistics because it quantifies overall variability and supports further analysis like hypothesis testing and risk assessment.\n",
        "\n",
        "Data: 3, 5, 8, 1\n",
        "\n",
        "Mean: (3 + 5 + 8 + 1) / 4 = 4.25\n",
        "\n",
        "Squared deviations sum = 26.72\n",
        "\n",
        "Population variance: 26.72 / 4 = 6.68\n"
      ],
      "metadata": {
        "id": "KtZW5W1b1ntC"
      }
    },
    {
      "cell_type": "markdown",
      "source": [
        "15.What is standard deviation, and why is it important?\n",
        "-> Standard deviation (SD) is a key statistical measure of how spread out data points are around the mean—its “typical” distance from the average. It's computed as the square root of the variance.\n",
        "\n",
        "Measures variability: Helps you see if data are consistent or erratic.\n",
        "Common interpretation via bell curve:\n",
        "~68% of data lie within ±1 SD of the mean\n",
        "~95% within ±2 SD, and ~99.7% within ±3 SD in a normal distribution\n",
        "Risk and quality insights:\n",
        "In finance, SD is used to measure volatility—the higher the SD, the riskier the investment .\n",
        "In manufacturing and forecasting, it helps assess consistency and predictability.\n",
        "Enables comparison across datasets:\n",
        "SD allows direct comparisons even between different scales, since it's expressed in the same units as the data .\n",
        "Basis for further analyses:\n",
        "Essential in hypothesis testing, confidence intervals, control charts, standard error calculations, and more ."
      ],
      "metadata": {
        "id": "--bOxB1A3iyA"
      }
    },
    {
      "cell_type": "markdown",
      "source": [
        "16. Define and explain the term range in statistics?\n",
        "->  In statistics, the range is a measure of dispersion that indicates the spread between the smallest and largest values in a dataset. It is calculated by subtracting the minimum value from the maximum value:\n",
        "Range = Maximum Value − Minimum Value\n",
        "Example\n",
        "Consider the dataset: {4, 6, 9, 3, 7}\n",
        "Minimum value = 3\n",
        "Maximum value = 9\n",
        "Range = 9 − 3 = 6"
      ],
      "metadata": {
        "id": "AkFpr4Or48rg"
      }
    },
    {
      "cell_type": "markdown",
      "source": [
        "17.What is the difference between variance and standard deviation?\n",
        "-> Variance\n",
        "Definition: The average of the squared deviations from the mean:\n",
        "\n",
        "Units: Squared units of the original data (e.g., if data are in cm, variance is in cm²).\n",
        "\n",
        "Purpose: Emphasizes larger deviations due to squaring—responds strongly to outliers\n",
        "\n",
        "\n",
        "Uses: Fundamental in statistical theory (e.g. ANOVA, regression), where additive properties are key"
      ],
      "metadata": {
        "id": "BccH4lC1it84"
      }
    },
    {
      "cell_type": "markdown",
      "source": [
        "18.What is skewness in a dataset?\n",
        "-> Skewness in a dataset is a statistical measure that quantifies how asymmetrical a probability distribution is around its mean. It shows whether data tend to cluster more on one side, and the extent to which outliers stretch out one “tail” of the distribution."
      ],
      "metadata": {
        "id": "morS2ChGpGq7"
      }
    },
    {
      "cell_type": "markdown",
      "source": [
        "19. What does it mean if a dataset is positively or negatively skewed?\n",
        "-> When a dataset is positively skewed or negatively skewed, it reflects which tail of the distribution is longer and how extreme values “pull” the mean and median."
      ],
      "metadata": {
        "id": "gKkuQPnlpUe3"
      }
    },
    {
      "cell_type": "markdown",
      "source": [
        "20. Define and explain kurtosis?\n",
        "-> Kurtosis is a statistical measure that describes the “tailedness” of a distribution—how much weight lies in its tails and, indirectly, how prone the dataset is to producing outliers.\n",
        "\n",
        "A normal distribution has a kurtosis value of 3 (or an excess kurtosis of 0).\n",
        "\n",
        "It’s primarily about extreme values—a high kurtosis indicates many data points far from the mean; low kurtosis indicates few extreme values\n",
        "\n",
        "Despite a common misconception, kurtosis is not about how “peaked” the center appears—it’s all about the tails"
      ],
      "metadata": {
        "id": "50DkmxzrpnFx"
      }
    },
    {
      "cell_type": "markdown",
      "source": [
        "21. What is the purpose of covariance?\n",
        "-> Purpose & Applications\n",
        "Determining Relationship Direction\n",
        "Covariance shows whether two variables tend to increase or decrease together—important for identifying positive or negative associations .\n",
        "\n",
        "**Foundation for Correlation**\n",
        "It serves as the numerator in the correlation formula:\n",
        "corr\n",
        "⁡\n",
        "(\n",
        "𝑋\n",
        ",\n",
        "𝑌\n",
        ")\n",
        "=\n",
        "cov\n",
        "⁡\n",
        "(\n",
        "𝑋\n",
        ",\n",
        "𝑌\n",
        ")\n",
        "𝜎\n",
        "𝑋\n",
        "𝜎\n",
        "𝑌\n",
        "corr(X,Y)=\n",
        "σ\n",
        "X\n",
        "​\n",
        " σ\n",
        "Y\n",
        "​\n",
        "\n",
        "cov(X,Y)\n",
        "​\n",
        "\n",
        "\n",
        "Covariance tells direction, while correlation standardizes that measure to show the strength too\n",
        "\n",
        "Variance of Sums\n",
        "Useful in understanding overall variability:\n",
        "Var\n",
        "⁡\n",
        "(\n",
        "𝑋\n",
        "+\n",
        "𝑌\n",
        ")\n",
        "=\n",
        "Var\n",
        "⁡\n",
        "(\n",
        "𝑋\n",
        ")\n",
        "+\n",
        "Var\n",
        "⁡\n",
        "(\n",
        "𝑌\n",
        ")\n",
        "+\n",
        "2\n",
        "\n",
        "cov\n",
        "⁡\n",
        "(\n",
        "𝑋\n",
        ",\n",
        "𝑌\n",
        ")\n",
        "Var(X+Y)=Var(X)+Var(Y)+2cov(X,Y)\n",
        "\n",
        "Hence, covariance is vital in probability and statistics when combining variables\n",
        "\n",
        "\n",
        "Multivariate Analysis\n",
        "Forms the core of covariance matrices, used in techniques like PCA and portfolio optimization\n",
        "\n",
        "\n",
        "Portfolio Management & Finance\n",
        "\n",
        "In Modern Portfolio Theory, it helps diversify risk by pairing assets whose returns don’t move together.\n",
        "\n",
        "Looking for assets with low or negative covariance reduces overall portfolio volatility"
      ],
      "metadata": {
        "id": "OUNRTJXDqM0V"
      }
    },
    {
      "cell_type": "markdown",
      "source": [
        "22. What does correlation measure in statistics?\n",
        "->  Correlation in statistics measures the direction, strength, and linear relationship between two variables. Here's a breakdown:\n",
        "Direction:\n",
        "\n",
        "Positive correlation\n",
        "(\n",
        "𝑟\n",
        ">\n",
        "0\n",
        ")\n",
        "(r>0): As one variable increases, the other tends to increase too.\n",
        "\n",
        "Negative correlation\n",
        "(\n",
        "𝑟\n",
        "<\n",
        "0\n",
        ")\n",
        "(r<0): As one variable increases, the other tends to decrease.\n",
        "\n",
        "Zero correlation\n",
        "(\n",
        "𝑟\n",
        "≈\n",
        "0\n",
        ")\n",
        "(r≈0): No linear relationship between the variables\n",
        "\n",
        "\n",
        "Strength:\n",
        "\n",
        "Measured by the correlation coefficient (often Pearson’s r), which ranges from –1 to +1.\n",
        "\n",
        "±1 = perfect linear relationship\n",
        "\n",
        "0 = no linear relationship\n",
        "\n",
        "Absolute values closer to 1 indicate stronger relationships"
      ],
      "metadata": {
        "id": "AcdsHBuvquyL"
      }
    },
    {
      "cell_type": "markdown",
      "source": [
        "23.What is the difference between covariance and correlation?\n",
        "-> | Feature               | Covariance                   | Correlation                  |\n",
        "| --------------------- | ---------------------------- | ---------------------------- |\n",
        "| **Direction**         | Same as covariance           | Same (positive/negative)     |\n",
        "| **Strength**          | Not indicated                | Clearly indicated (–1 to +1) |\n",
        "| **Units**             | Units of X × units of Y      | Dimensionless                |\n",
        "| **Range**             | –∞ to +∞                     | –1 to +1                     |\n",
        "| **Scale Sensitivity** | Very sensitive to data scale | Not affected by scaling      |\n"
      ],
      "metadata": {
        "id": "5R9ThwyLrSSW"
      }
    },
    {
      "cell_type": "markdown",
      "source": [
        "24. What are some real-world applications of statistics?\n",
        "-> Here are some compelling real-world applications of statistics, showing how vital it is across diverse domains:\n",
        "\n",
        "1. Healthcare & Medical Research\n",
        "2. Weather Forecasting & Environmental Science\n",
        "3. Business, Finance & Economics\n",
        "4. Quality Control in Manufacturing\n",
        "5. Education & Social Sciences\n",
        "6. Sports Analytics"
      ],
      "metadata": {
        "id": "cw2qXkdgrspJ"
      }
    },
    {
      "cell_type": "markdown",
      "source": [
        "                                                        Practical"
      ],
      "metadata": {
        "id": "-Dr-5D4vsee7"
      }
    },
    {
      "cell_type": "markdown",
      "source": [
        "1. How do you calculate the mean, median, and mode of a dataset?"
      ],
      "metadata": {
        "id": "ID2G5XTbsk7N"
      }
    },
    {
      "cell_type": "code",
      "source": [
        "#mean\n",
        "scor[23,24,25,26,27,28]"
      ],
      "metadata": {
        "id": "HvqbYCB00UjX"
      },
      "execution_count": null,
      "outputs": []
    },
    {
      "cell_type": "code",
      "source": [
        "(23+24+25+26+27+28) /6"
      ],
      "metadata": {
        "colab": {
          "base_uri": "https://localhost:8080/"
        },
        "id": "LaZxE9Bez5Tm",
        "outputId": "d8e4b551-1ec7-4d04-b9b0-d2ee57cf9148"
      },
      "execution_count": 9,
      "outputs": [
        {
          "output_type": "execute_result",
          "data": {
            "text/plain": [
              "25.5"
            ]
          },
          "metadata": {},
          "execution_count": 9
        }
      ]
    },
    {
      "cell_type": "code",
      "source": [
        "import numpy as np\n",
        "np.mean(score)"
      ],
      "metadata": {
        "colab": {
          "base_uri": "https://localhost:8080/"
        },
        "id": "jtkqj9p40oxX",
        "outputId": "d9aa9c4d-e50c-407f-a8cd-bdd901e4763f"
      },
      "execution_count": 11,
      "outputs": [
        {
          "output_type": "execute_result",
          "data": {
            "text/plain": [
              "np.float64(40.333333333333336)"
            ]
          },
          "metadata": {},
          "execution_count": 11
        }
      ]
    },
    {
      "cell_type": "code",
      "source": [
        "#median\n",
        "nos= [4,3,8,7,5]\n",
        "np.median(nos)"
      ],
      "metadata": {
        "colab": {
          "base_uri": "https://localhost:8080/"
        },
        "id": "DM2J4OrR06HN",
        "outputId": "bfcd2265-0e67-4693-deeb-dca84b4771f8"
      },
      "execution_count": 12,
      "outputs": [
        {
          "output_type": "execute_result",
          "data": {
            "text/plain": [
              "np.float64(5.0)"
            ]
          },
          "metadata": {},
          "execution_count": 12
        }
      ]
    },
    {
      "cell_type": "code",
      "source": [
        "from scipy import statistics"
      ],
      "metadata": {
        "id": "M1p8PHhd2Wam"
      },
      "execution_count": null,
      "outputs": []
    },
    {
      "cell_type": "code",
      "source": [
        "statistics.mode(3,4,5,6,4)"
      ],
      "metadata": {
        "colab": {
          "base_uri": "https://localhost:8080/",
          "height": 141
        },
        "id": "Vj6iXn5-3mSN",
        "outputId": "bd6fe612-eedc-4756-c984-db1b7b25e2e4"
      },
      "execution_count": 14,
      "outputs": [
        {
          "output_type": "error",
          "ename": "NameError",
          "evalue": "name 'statistics' is not defined",
          "traceback": [
            "\u001b[0;31m---------------------------------------------------------------------------\u001b[0m",
            "\u001b[0;31mNameError\u001b[0m                                 Traceback (most recent call last)",
            "\u001b[0;32m/tmp/ipython-input-14-27903261.py\u001b[0m in \u001b[0;36m<cell line: 0>\u001b[0;34m()\u001b[0m\n\u001b[0;32m----> 1\u001b[0;31m \u001b[0mstatistics\u001b[0m\u001b[0;34m.\u001b[0m\u001b[0mmode\u001b[0m\u001b[0;34m(\u001b[0m\u001b[0;36m3\u001b[0m\u001b[0;34m,\u001b[0m\u001b[0;36m4\u001b[0m\u001b[0;34m,\u001b[0m\u001b[0;36m5\u001b[0m\u001b[0;34m,\u001b[0m\u001b[0;36m6\u001b[0m\u001b[0;34m,\u001b[0m\u001b[0;36m4\u001b[0m\u001b[0;34m)\u001b[0m\u001b[0;34m\u001b[0m\u001b[0;34m\u001b[0m\u001b[0m\n\u001b[0m",
            "\u001b[0;31mNameError\u001b[0m: name 'statistics' is not defined"
          ]
        }
      ]
    },
    {
      "cell_type": "markdown",
      "source": [
        "2. Write a Python program to compute the variance and standard deviation of a dataset?"
      ],
      "metadata": {
        "id": "daiRAmtO35Jh"
      }
    },
    {
      "cell_type": "code",
      "source": [
        "import math\n",
        "\n",
        "def variance(data, ddof=0):\n",
        "    \"\"\"Calculate variance. ddof=0 for population, ddof=1 for sample.\"\"\"\n",
        "    n = len(data)\n",
        "    if n - ddof <= 0:\n",
        "        raise ValueError(\"Not enough data points\")\n",
        "    mean = sum(data) / n\n",
        "    return sum((x - mean)**2 for x in data) / (n - ddof)\n",
        "\n",
        "def stdev(data, ddof=0):\n",
        "    \"\"\"Calculate standard deviation.\"\"\"\n",
        "    return math.sqrt(variance(data, ddof))\n",
        "\n",
        "# Example usage:\n",
        "data = [3, 5, 2, 7, 1, 3]\n",
        "print(\"Population variance:\", variance(data, ddof=0))\n",
        "print(\"Population stdev:\",    stdev(data, ddof=0))\n",
        "\n",
        "print(\"Sample variance:\",   variance(data, ddof=1))\n",
        "print(\"Sample stdev:\",      stdev(data, ddof=1))\n"
      ],
      "metadata": {
        "colab": {
          "base_uri": "https://localhost:8080/"
        },
        "id": "fYHQ0kYL4NVa",
        "outputId": "48c43e40-d0fb-45e5-f240-eb193a50c447"
      },
      "execution_count": 15,
      "outputs": [
        {
          "output_type": "stream",
          "name": "stdout",
          "text": [
            "Population variance: 3.9166666666666665\n",
            "Population stdev: 1.9790570145063195\n",
            "Sample variance: 4.7\n",
            "Sample stdev: 2.16794833886788\n"
          ]
        }
      ]
    },
    {
      "cell_type": "markdown",
      "source": [
        "3. Create a dataset and classify it into nominal, ordinal, interval, and ratio types."
      ],
      "metadata": {
        "id": "4MiQbegI4Vuo"
      }
    },
    {
      "cell_type": "markdown",
      "source": [
        "RespondentID, Gender, Satisfaction, Temperature_C, AnnualIncome\n",
        "1, Female, 4, 22.5, 55000\n",
        "2, Male, 3, 18.0, 72000\n",
        "3, Other, 5, 25.0, 48000\n",
        "4, Female, 2, 20.5, 63000\n",
        "5, Male, 1, 16.0, 80000\n"
      ],
      "metadata": {
        "id": "M7EO5b-D4wug"
      }
    },
    {
      "cell_type": "markdown",
      "source": [
        "4. Implement sampling techniques like random sampling and stratified sampling."
      ],
      "metadata": {
        "id": "LUzcaTSF46Lz"
      }
    },
    {
      "cell_type": "code",
      "source": [
        "import numpy as np\n",
        "\n",
        "data = np.arange(100)\n",
        "# Select 10 unique indices\n",
        "sel = np.random.choice(len(data), size=10, replace=False)\n",
        "random_sample = data[sel]\n",
        "print(random_sample)\n"
      ],
      "metadata": {
        "colab": {
          "base_uri": "https://localhost:8080/"
        },
        "id": "8yFBpbR25IRv",
        "outputId": "1a6d2644-d960-456b-cff9-9181653cc924"
      },
      "execution_count": 17,
      "outputs": [
        {
          "output_type": "stream",
          "name": "stdout",
          "text": [
            "[45 78 85 50 82 14 33  5 39 62]\n"
          ]
        }
      ]
    },
    {
      "cell_type": "markdown",
      "source": [
        "5. Write a Python function to calculate the range of a dataset?"
      ],
      "metadata": {
        "id": "-KdhFKnw5Qc-"
      }
    },
    {
      "cell_type": "code",
      "source": [
        "def data_range(data):\n",
        "    \"\"\"Return (min, max, range) of a list of numbers.\"\"\"\n",
        "    if not data:\n",
        "        raise ValueError(\"Dataset is empty\")\n",
        "    lo = min(data)\n",
        "    hi = max(data)\n",
        "    return lo, hi, hi - lo\n",
        "values = [3, 7, 2, 9, 5]\n",
        "low, high, rng = data_range(values)\n",
        "print(f\"Min = {low}, Max = {high}, Range = {rng}\")\n",
        "# Output: Min = 2, Max = 9, Range = 7\n"
      ],
      "metadata": {
        "colab": {
          "base_uri": "https://localhost:8080/"
        },
        "id": "yJ5Fzf8x5yl7",
        "outputId": "9e5fc54e-61f3-44d8-993a-4e2cfcd458c9"
      },
      "execution_count": 18,
      "outputs": [
        {
          "output_type": "stream",
          "name": "stdout",
          "text": [
            "Min = 2, Max = 9, Range = 7\n"
          ]
        }
      ]
    },
    {
      "cell_type": "markdown",
      "source": [
        "6. Create a dataset and plot its histogram to visualize skewness."
      ],
      "metadata": {
        "id": "Bz1bT2E_53yp"
      }
    },
    {
      "cell_type": "code",
      "source": [
        "import numpy as np\n",
        "import matplotlib.pyplot as plt\n",
        "from scipy.stats import skewnorm\n",
        "\n",
        "# Set seed for reproducibility\n",
        "np.random.seed(42)\n",
        "\n",
        "# Generate three datasets:\n",
        "# 1. Symmetric (normal)\n",
        "# 2. Positively skewed (right tail)\n",
        "# 3. Negatively skewed (left tail)\n",
        "n = 1000\n",
        "normal = np.random.normal(loc=0, scale=1, size=n)\n",
        "positive_skew = skewnorm.rvs(a=10, size=n, loc=0, scale=1, random_state=42)\n",
        "negative_skew = skewnorm.rvs(a=-10, size=n, loc=0, scale=1, random_state=42)\n",
        "\n",
        "# Plot histograms\n",
        "fig, axes = plt.subplots(1, 3, figsize=(15, 4), sharey=True)\n",
        "datasets = [('Normal', normal), ('Positive Skew', positive_skew), ('Negative Skew', negative_skew)]\n",
        "\n",
        "for ax, (title, data) in zip(axes, datasets):\n",
        "    ax.hist(data, bins=30, color='#4C72B0', edgecolor='black', alpha=0.7)\n",
        "    ax.set_title(title)\n",
        "    ax.axvline(np.mean(data), color='red', linestyle='--', label='Mean')\n",
        "    ax.axvline(np.median(data), color='green', linestyle='-', label='Median')\n",
        "    ax.legend()\n",
        "\n",
        "plt.tight_layout()\n",
        "plt.show()\n"
      ],
      "metadata": {
        "colab": {
          "base_uri": "https://localhost:8080/",
          "height": 318
        },
        "id": "GpXPs1KQ6RM_",
        "outputId": "5fdbb261-f902-462a-b281-95e3d0a17395"
      },
      "execution_count": 19,
      "outputs": [
        {
          "output_type": "display_data",
          "data": {
            "text/plain": [
              "<Figure size 1500x400 with 3 Axes>"
            ],
            "image/png": "[encoded data removed]"
          },
          "metadata": {}
        }
      ]
    },
    {
      "cell_type": "markdown",
      "source": [
        "7. Calculate skewness and kurtosis of a dataset using Python libraries?"
      ],
      "metadata": {
        "id": "8jVlnKiW6Ynj"
      }
    },
    {
      "cell_type": "code",
      "source": [
        "import numpy as np\n",
        "from scipy.stats import skew, kurtosis\n",
        "\n",
        "# Create a sample dataset\n",
        "data = np.array([10, 25, 14, 26, 35, 45, 67, 90, 40, 50, 60, 10, 16, 18, 20])\n",
        "\n",
        "# Calculate skewness (Fisher–Pearson, bias-corrected)\n",
        "sk = skew(data, bias=False)\n",
        "print(\"Skewness:\", sk)\n",
        "\n",
        "# Calculate kurtosis (excess kurtosis: normal = 0)\n",
        "k = kurtosis(data, fisher=True, bias=False)\n",
        "print(\"Excess Kurtosis:\", k)\n"
      ],
      "metadata": {
        "colab": {
          "base_uri": "https://localhost:8080/"
        },
        "id": "iQqV9aCM61zO",
        "outputId": "b3313b70-f15c-40f1-e17d-2f585c43c1ec"
      },
      "execution_count": 20,
      "outputs": [
        {
          "output_type": "stream",
          "name": "stdout",
          "text": [
            "Skewness: 1.0104348074481138\n",
            "Excess Kurtosis: 0.46263069215258357\n"
          ]
        }
      ]
    },
    {
      "cell_type": "markdown",
      "source": [
        "8. Generate a dataset and demonstrate positive and negative skewness."
      ],
      "metadata": {
        "id": "yACWYwwF69ui"
      }
    },
    {
      "cell_type": "code",
      "source": [
        "import numpy as np\n",
        "import matplotlib.pyplot as plt\n",
        "from scipy.stats import skewnorm\n",
        "\n",
        "# Reproducibility\n",
        "np.random.seed(42)\n",
        "\n",
        "n = 1000\n",
        "data_pos = skewnorm.rvs(a=8, size=n, loc=0, scale=1, random_state=42)\n",
        "data_neg = skewnorm.rvs(a=-8, size=n, loc=0, scale=1, random_state=42)\n",
        "\n",
        "fig, axs = plt.subplots(1, 3, figsize=(15,4), sharey=True)\n",
        "for ax, title, data in zip(axs, ['Positive Skew', 'Negative Skew'],\n",
        "                          [data_pos, data_neg]):\n",
        "    ax.hist(data, bins=30, color='skyblue', edgecolor='black', alpha=0.7)\n",
        "    ax.axvline(data.mean(), color='red', linestyle='--', label='Mean')\n",
        "    ax.axvline(np.median(data), color='green', linestyle='-', label='Median')\n",
        "    ax.set_title(title)\n",
        "    ax.legend()\n",
        "plt.tight_layout()\n",
        "plt.show()\n"
      ],
      "metadata": {
        "colab": {
          "base_uri": "https://localhost:8080/",
          "height": 318
        },
        "id": "R66INSPh7wZr",
        "outputId": "a81360c8-a7d5-4cf7-a83e-8324bcd9fde5"
      },
      "execution_count": 21,
      "outputs": [
        {
          "output_type": "display_data",
          "data": {
            "text/plain": [
              "<Figure size 1500x400 with 3 Axes>"
            ],
            "image/png": "[encoded data removed]"
          },
          "metadata": {}
        }
      ]
    },
    {
      "cell_type": "markdown",
      "source": [
        "9. Write a Python script to calculate covariance between two datasets."
      ],
      "metadata": {
        "id": "441kaXj38IwI"
      }
    },
    {
      "cell_type": "code",
      "source": [
        "import numpy as np\n",
        "\n",
        "x = np.array([2, 4, 6, 8])\n",
        "y = np.array([1, 3, 5, 7])\n",
        "\n",
        "# Compute the covariance matrix (unbiased: ddof=1)\n",
        "cov_matrix = np.cov(x, y, ddof=1)\n",
        "print(cov_matrix)\n",
        "# Extract the covariance value between x and y\n",
        "cov_xy = cov_matrix[0, 1]\n",
        "print(\"Covariance:\", cov_xy)\n"
      ],
      "metadata": {
        "colab": {
          "base_uri": "https://localhost:8080/"
        },
        "id": "2mLj72jw8aaX",
        "outputId": "ef5c8625-fb54-4590-a841-ab17284f7a81"
      },
      "execution_count": 22,
      "outputs": [
        {
          "output_type": "stream",
          "name": "stdout",
          "text": [
            "[[6.66666667 6.66666667]\n",
            " [6.66666667 6.66666667]]\n",
            "Covariance: 6.666666666666666\n"
          ]
        }
      ]
    },
    {
      "cell_type": "markdown",
      "source": [
        "10. Write a Python script to calculate the correlation coefficient between two datasets."
      ],
      "metadata": {
        "id": "qPuIvyUR8e0A"
      }
    },
    {
      "cell_type": "code",
      "source": [
        "import numpy as np\n",
        "\n",
        "x = np.array([22,23,24,25,26,27,28,29,30,31])\n",
        "y = np.array([2, 1, 4, 5, 8, 14, 18, 26, 96, 48])\n",
        "\n",
        "corr_matrix = np.corrcoef(x, y)\n",
        "corr_xy = corr_matrix[0, 1]\n",
        "print(\"Pearson correlation (NumPy):\", corr_xy)\n"
      ],
      "metadata": {
        "colab": {
          "base_uri": "https://localhost:8080/"
        },
        "id": "cmfIkm5Z8uU1",
        "outputId": "2097e3e9-c0d7-458f-b2e1-9ad952b75507"
      },
      "execution_count": 26,
      "outputs": [
        {
          "output_type": "stream",
          "name": "stdout",
          "text": [
            "Pearson correlation (NumPy): 0.7643823016202712\n"
          ]
        }
      ]
    },
    {
      "cell_type": "markdown",
      "source": [
        "11. Create a scatter plot to visualize the relationship between two variables."
      ],
      "metadata": {
        "id": "CD5nNSNx9bR5"
      }
    },
    {
      "cell_type": "code",
      "source": [
        "import matplotlib.pyplot as plt\n",
        "\n",
        "# Sample data\n",
        "study_hours = [1, 2, 3, 4, 5]\n",
        "ranks = [6,7,8,9,10]\n",
        "\n",
        "# Create scatter plot\n",
        "plt.scatter(study_hours, ranks)\n",
        "plt.title('Study Hours vs. ranks')\n",
        "plt.xlabel('Study Hours')\n",
        "plt.ylabel('ranks')\n",
        "plt.grid(True)\n",
        "plt.show()\n"
      ],
      "metadata": {
        "colab": {
          "base_uri": "https://localhost:8080/",
          "height": 472
        },
        "id": "mKkdzoyS944p",
        "outputId": "3cbdf612-2d7e-4ec3-97ac-7ab7e6beca2c"
      },
      "execution_count": 28,
      "outputs": [
        {
          "output_type": "display_data",
          "data": {
            "text/plain": [
              "<Figure size 640x480 with 1 Axes>"
            ],
            "image/png": "[encoded data removed]"
          },
          "metadata": {}
        }
      ]
    },
    {
      "cell_type": "markdown",
      "source": [
        "12. Implement and compare simple random sampling and systematic sampling."
      ],
      "metadata": {
        "id": "nXKP9aeu-e0h"
      }
    },
    {
      "cell_type": "code",
      "source": [
        "import numpy as np\n",
        "import pandas as pd\n",
        "\n",
        "# Sample population\n",
        "population = pd.DataFrame({\n",
        "    'id': np.arange(1, 101),\n",
        "    'value': np.random.randn(100)\n",
        "})\n",
        "\n",
        "def simple_random_sample(df, n, seed=None):\n",
        "    return df.sample(n=n, random_state=seed)\n",
        "\n",
        "def systematic_sample(df, n, seed=None):\n",
        "    N = len(df)\n",
        "    k = N // n\n",
        "    start = np.random.RandomState(seed).randint(0, k)\n",
        "    return df.iloc[start::k].head(n)  # ensure exactly n\n",
        "srs = simple_random_sample(population, n=10, seed=42)\n",
        "sys = systematic_sample(population, n=10, seed=42)\n",
        "print(\"SRS IDs:\", srs['id'].tolist())\n",
        "print(\"SYS IDs:\", sys['id'].tolist())\n"
      ],
      "metadata": {
        "colab": {
          "base_uri": "https://localhost:8080/"
        },
        "id": "2-bAEctL-2QI",
        "outputId": "4be2f3fa-71ce-42cd-c1df-854765c8b6bd"
      },
      "execution_count": 29,
      "outputs": [
        {
          "output_type": "stream",
          "name": "stdout",
          "text": [
            "SRS IDs: [84, 54, 71, 46, 45, 40, 23, 81, 11, 1]\n",
            "SYS IDs: [7, 17, 27, 37, 47, 57, 67, 77, 87, 97]\n"
          ]
        }
      ]
    },
    {
      "cell_type": "markdown",
      "source": [
        "13. Calculate the mean, median, and mode of grouped data."
      ],
      "metadata": {
        "id": "YBS4ZFV0--LL"
      }
    },
    {
      "cell_type": "markdown",
      "source": [
        "14. Simulate data using Python and calculate its central tendency and dispersion."
      ],
      "metadata": {
        "id": "_yOQ9LNd_cBk"
      }
    },
    {
      "cell_type": "code",
      "source": [
        "import statistics as st\n",
        "\n",
        "mean  = np.mean(data)\n",
        "median = np.median(data)\n",
        "mode = st.mode(data.astype(int))  # approximate mode of rounded data\n"
      ],
      "metadata": {
        "id": "Fkpi5QQ0_0Sj"
      },
      "execution_count": 32,
      "outputs": []
    },
    {
      "cell_type": "code",
      "source": [
        "q1, q3 = np.percentile(data, [25, 75])\n",
        "data_range = np.ptp(data)\n",
        "variance = np.var(data)\n",
        "std_dev = np.std(data)\n",
        "iqr = q3 - q1\n"
      ],
      "metadata": {
        "id": "z-j5P5QT_3WT"
      },
      "execution_count": 33,
      "outputs": []
    },
    {
      "cell_type": "markdown",
      "source": [
        "15.Use NumPy or pandas to summarize a dataset’s descriptive statistics."
      ],
      "metadata": {
        "id": "7gTk2F5i_8_5"
      }
    },
    {
      "cell_type": "code",
      "source": [
        "import numpy as np\n",
        "\n",
        "data = np.random.normal(loc=0, scale=1, size=1000)\n",
        "mean = np.mean(data)\n",
        "median = np.median(data)\n",
        "std = np.std(data)\n",
        "var = np.var(data)\n",
        "data_range = np.ptp(data)\n",
        "q1, q3 = np.percentile(data, [25, 75])\n",
        "print(f\"Mean = {mean:.3f}, Median = {median:.3f}\")\n",
        "print(f\"Std = {std:.3f}, Variance = {var:.3f}, Range = {data_range:.3f}\")\n",
        "print(f\"IQR = {q3 - q1:.3f} (Q1 = {q1:.3f}, Q3 = {q3:.3f})\")\n"
      ],
      "metadata": {
        "colab": {
          "base_uri": "https://localhost:8080/"
        },
        "id": "CkM2lLisANGd",
        "outputId": "60755a46-1094-4744-926f-e78a3a77c72a"
      },
      "execution_count": 36,
      "outputs": [
        {
          "output_type": "stream",
          "name": "stdout",
          "text": [
            "Mean = 0.006, Median = 0.005\n",
            "Std = 0.988, Variance = 0.977, Range = 6.917\n",
            "IQR = 1.303 (Q1 = -0.648, Q3 = 0.655)\n"
          ]
        }
      ]
    },
    {
      "cell_type": "markdown",
      "source": [
        "16. Plot a boxplot to understand the spread and identify outliers."
      ],
      "metadata": {
        "id": "fppCdTeWA1Ah"
      }
    },
    {
      "cell_type": "code",
      "source": [
        "import numpy as np\n",
        "import matplotlib.pyplot as plt\n",
        "np.random.seed(10)\n",
        "groups = [np.random.normal(100, 10, 200),\n",
        "          np.random.normal(90, 20, 200),\n",
        "          np.random.normal(80, 30, 200),\n",
        "          np.random.normal(70, 40, 200)]\n",
        "\n",
        "fig, ax = plt.subplots(figsize=(8, 5))\n",
        "ax.boxplot(groups, patch_artist=True,\n",
        "           notch=True, labels=['A', 'B', 'C', 'D'])\n",
        "\n",
        "# Custom appearance\n",
        "colors = ['lightblue', 'lightgreen', 'lightcoral', 'lightyellow']\n",
        "for patch, color in zip(ax.artists, colors):\n",
        "    patch.set_facecolor(color)\n",
        "\n",
        "ax.set_title(\"Boxplot with Matplotlib\")\n",
        "ax.set_ylabel(\"Value\")\n",
        "plt.show()\n"
      ],
      "metadata": {
        "colab": {
          "base_uri": "https://localhost:8080/",
          "height": 523
        },
        "id": "7DWWkytlBDqI",
        "outputId": "c2a5b2ba-37da-4903-86e0-25544b14d54a"
      },
      "execution_count": 37,
      "outputs": [
        {
          "output_type": "stream",
          "name": "stderr",
          "text": [
            "/tmp/ipython-input-37-1084097349.py:10: MatplotlibDeprecationWarning: The 'labels' parameter of boxplot() has been renamed 'tick_labels' since Matplotlib 3.9; support for the old name will be dropped in 3.11.\n",
            "  ax.boxplot(groups, patch_artist=True,\n"
          ]
        },
        {
          "output_type": "display_data",
          "data": {
            "text/plain": [
              "<Figure size 800x500 with 1 Axes>"
            ],
            "image/png": "[encoded data removed]"
          },
          "metadata": {}
        }
      ]
    }
  ]
}